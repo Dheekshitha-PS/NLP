{
 "cells": [
  {
   "cell_type": "markdown",
   "metadata": {},
   "source": [
    "# Data Cleaning\n",
    " This file has all the required functions to clean text data"
   ]
  },
  {
   "cell_type": "code",
   "execution_count": 1,
   "metadata": {},
   "outputs": [],
   "source": [
    "import pandas as pd\n",
    "import numpy as np\n",
    "import re\n",
    "from pandas.api.types import is_numeric_dtype\n",
    "from pandas.api.types import is_string_dtype\n",
    "import copy\n",
    "import spacy"
   ]
  },
  {
   "cell_type": "code",
   "execution_count": 2,
   "metadata": {
    "scrolled": true
   },
   "outputs": [],
   "source": [
    "nlp=spacy.load('en_core_web_sm')\n",
    "# import spacy \n",
    "# spacy.load('en_core_web_sm')"
   ]
  },
  {
   "cell_type": "code",
   "execution_count": 3,
   "metadata": {},
   "outputs": [],
   "source": [
    "def removeWhiteSpace(data):\n",
    "    data.columns= data.columns.str.strip()\n",
    "    for col in data.columns:\n",
    "        if(is_string_dtype(data[col])):\n",
    "            data[col]=data[col].str.strip()\n",
    "    return data\n",
    "    "
   ]
  },
  {
   "cell_type": "code",
   "execution_count": 17,
   "metadata": {},
   "outputs": [],
   "source": [
    "def preProcessColumn(data,fillna=True,removeNumbers=True,\n",
    "                     removeSpecialCharacters=True,handleCamelCase=False,\n",
    "                    removeMailids=True,removeUrls=True):\n",
    "    if(fillna):\n",
    "        data=data.fillna(\"No text\")\n",
    "    data = data.astype(str)\n",
    "    #splitting data based on camel case\n",
    "    if(handleCamelCase):\n",
    "        data = data.map(lambda x:camelCaseSplit(x))\n",
    "        \n",
    "    #remove extra spaces\n",
    "    data= data.map(lambda x:re.sub(' +',' ',x))\n",
    "    \n",
    "    if(removeMailids):\n",
    "        data=data.map(lambda x:re.sub('[\\w\\.-]+@[\\w\\.-]+',' ',x))\n",
    "    if(removeUrls):\n",
    "        data=data.map(lambda x:re.sub('http[s]?://(?:[a-zA-Z]|[0-9]|[$-_@.&+]|[!*\\(\\),]|(?:%[0-9a-fA-F][0-9a-fA-F]))+',' ',x))\n",
    "        data=data.map(lambda x:re.sub('\\s*(www\\.[^:\\/\\n]+\\.com)\\s*',' ',x))\n",
    "        data=data.map(lambda x:re.sub('[<^>}*>]',\" \",x))\n",
    "    \n",
    "    #replace _ with \" \"\n",
    "    data= data.map(lambda x:x.replace('_',' '))\n",
    "    \n",
    "    #remove numbers\n",
    "    if(removeNumbers):\n",
    "        data= data.map(lambda x:re.sub('\\d','',x))\n",
    "    #remove special chars\n",
    "    if(removeSpecialCharacters):\n",
    "        data= data.map(lambda x:re.sub('[^a-zA-Zr\"\\'\\\"\"\\d\"\"]+',' ',x))\n",
    "        #replace ' with ''\n",
    "        data= data.replace(\"'\",'',regex=True)\n",
    "        \n",
    "    \n",
    "    return(data)\n",
    "        "
   ]
  },
  {
   "cell_type": "code",
   "execution_count": 5,
   "metadata": {},
   "outputs": [],
   "source": [
    "import pandas as pd"
   ]
  },
  {
   "cell_type": "code",
   "execution_count": 6,
   "metadata": {},
   "outputs": [],
   "source": [
    "def camelCaseSplit(identifier):\n",
    "    matches = re.finditer('.+?)?:(?<=[a-z])(?=[A-Z]) | (?<=[A-Z])(?=[A-Z][a-z])|$)',identifier)\n",
    "    splitStringList= [m.grop(0) for m in matches]\n",
    "    \n",
    "    return(' '. join(i for i in splitStringList))"
   ]
  },
  {
   "cell_type": "code",
   "execution_count": 7,
   "metadata": {},
   "outputs": [],
   "source": [
    "def preProcessData(data,textColumns,customStopWords,fillna=True,\n",
    "                   removeNumbers=True,removeSpecialCharacters=True,\n",
    "                   handleCamelCase=False,removeStopwords=True,\n",
    "                  removeMailids=True,removeUrls=True):\n",
    "    data= removeWhiteSpace(data)\n",
    "    for cols in data.columns:\n",
    "        if(cols in textColumns):\n",
    "            data[cols]=preProcessColumn(data[cols],fillna=fillna,removeNumbers=removeNumbers,removeSpecialCharacters=removeSpecialCharacters,handleCamelCase=handleCamelCase,\n",
    "                                       removeMailids=removeMailids,removeUrls=removeUrls)\n",
    "            if(removeStopwords):\n",
    "                data[cols]=removeStopwordsFunc(data[cols],customStopWords=customStopWords)\n",
    "        \n",
    "            \n",
    "    return(data)"
   ]
  },
  {
   "cell_type": "code",
   "execution_count": 8,
   "metadata": {},
   "outputs": [],
   "source": [
    "## Stop word removal\n",
    "import nltk\n",
    "from nltk.corpus import stopwords"
   ]
  },
  {
   "cell_type": "code",
   "execution_count": 9,
   "metadata": {},
   "outputs": [],
   "source": [
    "from nltk.tokenize import word_tokenize"
   ]
  },
  {
   "cell_type": "code",
   "execution_count": 10,
   "metadata": {},
   "outputs": [
    {
     "name": "stderr",
     "output_type": "stream",
     "text": [
      "[nltk_data] Downloading package punkt to /home/dheekshitha-\n",
      "[nltk_data]     vibha/nltk_data...\n",
      "[nltk_data]   Package punkt is already up-to-date!\n"
     ]
    },
    {
     "data": {
      "text/plain": [
       "True"
      ]
     },
     "execution_count": 10,
     "metadata": {},
     "output_type": "execute_result"
    }
   ],
   "source": [
    "nltk.download('punkt')"
   ]
  },
  {
   "cell_type": "code",
   "execution_count": null,
   "metadata": {},
   "outputs": [],
   "source": []
  },
  {
   "cell_type": "code",
   "execution_count": 11,
   "metadata": {},
   "outputs": [],
   "source": [
    "\n",
    "def removeStopwordsFunc(data,customStopWords=[\"a\"]):\n",
    "    stop_words = set(stopwords.words('english')) \n",
    "    stop_words.update(customStopWords)\n",
    "\n",
    "    data = data.map(lambda x:word_tokenize(x) )\n",
    "\n",
    "#     filtered_sentence = [w for w in word_tokens if not w in stop_words] \n",
    "\n",
    "#     filtered_sentence = [] \n",
    "\n",
    "#     for w in word_tokens: \n",
    "#         if w not in stop_words: \n",
    "#             filtered_sentence.append(w) \n",
    "    data = data.map(lambda a:(\" \".join(i for i in a  if i.lower() not in stop_words)))\n",
    "    \n",
    "    return(data)"
   ]
  },
  {
   "cell_type": "code",
   "execution_count": 12,
   "metadata": {},
   "outputs": [
    {
     "name": "stderr",
     "output_type": "stream",
     "text": [
      "[nltk_data] Downloading package wordnet to /home/dheekshitha-\n",
      "[nltk_data]     vibha/nltk_data...\n",
      "[nltk_data]   Package wordnet is already up-to-date!\n"
     ]
    },
    {
     "data": {
      "text/plain": [
       "True"
      ]
     },
     "execution_count": 12,
     "metadata": {},
     "output_type": "execute_result"
    }
   ],
   "source": [
    "nltk.download('wordnet')"
   ]
  },
  {
   "cell_type": "code",
   "execution_count": 13,
   "metadata": {
    "scrolled": true
   },
   "outputs": [],
   "source": [
    "#lemmatize the data\n",
    "from nltk.stem import WordNetLemmatizer \n",
    "w_tokenizer = nltk.tokenize.WhitespaceTokenizer()\n",
    "lemmatizer = WordNetLemmatizer() \n",
    "def lemmatize_text(text):\n",
    "    return [lemmatizer.lemmatize(w) for w in w_tokenizer.tokenize(text)]"
   ]
  },
  {
   "cell_type": "code",
   "execution_count": 14,
   "metadata": {
    "scrolled": true
   },
   "outputs": [
    {
     "data": {
      "text/plain": [
       "['production']"
      ]
     },
     "execution_count": 14,
     "metadata": {},
     "output_type": "execute_result"
    }
   ],
   "source": [
    "lemmatize_text(\"productions\")"
   ]
  },
  {
   "cell_type": "code",
   "execution_count": 15,
   "metadata": {},
   "outputs": [],
   "source": [
    "# import re"
   ]
  },
  {
   "cell_type": "code",
   "execution_count": 16,
   "metadata": {},
   "outputs": [],
   "source": [
    "# x=\"this @bsi stuoud@gmaf, https://www.ccs-labs.org/teaching/rn/animations/propagation/\"\n",
    "# re.sub('[\\w\\.-]+@[\\w\\.-]+','',x)\n",
    "# re.sub('[<^>}*>]',\"\",x)\n",
    "# re.sub('[^a-zA-Z.]',\" \",x)"
   ]
  }
 ],
 "metadata": {
  "kernelspec": {
   "display_name": "Python 3",
   "language": "python",
   "name": "python3"
  },
  "language_info": {
   "codemirror_mode": {
    "name": "ipython",
    "version": 3
   },
   "file_extension": ".py",
   "mimetype": "text/x-python",
   "name": "python",
   "nbconvert_exporter": "python",
   "pygments_lexer": "ipython3",
   "version": "3.7.7"
  }
 },
 "nbformat": 4,
 "nbformat_minor": 4
}
